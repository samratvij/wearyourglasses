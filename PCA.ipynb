{
 "cells": [
  {
   "cell_type": "markdown",
   "metadata": {},
   "source": [
    "# https://towardsdatascience.com/the-mathematics-behind-principal-component-analysis-fff2d7f4b643"
   ]
  },
  {
   "cell_type": "code",
   "execution_count": null,
   "metadata": {},
   "outputs": [],
   "source": []
  },
  {
   "cell_type": "code",
   "execution_count": 1,
   "metadata": {},
   "outputs": [],
   "source": [
    "import numpy as np\n",
    "import pandas as pd"
   ]
  },
  {
   "cell_type": "code",
   "execution_count": 2,
   "metadata": {},
   "outputs": [],
   "source": [
    "url = \"https://archive.ics.uci.edu/ml/machine-learning-databases/iris/iris.data\"\n",
    "names = ['sepal-length', 'sepal-width', 'petal-length', 'petal-width', 'Class']\n",
    "dataset = pd.read_csv(url, names=names)"
   ]
  },
  {
   "cell_type": "code",
   "execution_count": 3,
   "metadata": {},
   "outputs": [
    {
     "data": {
      "text/html": [
       "<div>\n",
       "<style scoped>\n",
       "    .dataframe tbody tr th:only-of-type {\n",
       "        vertical-align: middle;\n",
       "    }\n",
       "\n",
       "    .dataframe tbody tr th {\n",
       "        vertical-align: top;\n",
       "    }\n",
       "\n",
       "    .dataframe thead th {\n",
       "        text-align: right;\n",
       "    }\n",
       "</style>\n",
       "<table border=\"1\" class=\"dataframe\">\n",
       "  <thead>\n",
       "    <tr style=\"text-align: right;\">\n",
       "      <th></th>\n",
       "      <th>sepal-length</th>\n",
       "      <th>sepal-width</th>\n",
       "      <th>petal-length</th>\n",
       "      <th>petal-width</th>\n",
       "      <th>Class</th>\n",
       "    </tr>\n",
       "  </thead>\n",
       "  <tbody>\n",
       "    <tr>\n",
       "      <th>0</th>\n",
       "      <td>5.1</td>\n",
       "      <td>3.5</td>\n",
       "      <td>1.4</td>\n",
       "      <td>0.2</td>\n",
       "      <td>Iris-setosa</td>\n",
       "    </tr>\n",
       "    <tr>\n",
       "      <th>1</th>\n",
       "      <td>4.9</td>\n",
       "      <td>3.0</td>\n",
       "      <td>1.4</td>\n",
       "      <td>0.2</td>\n",
       "      <td>Iris-setosa</td>\n",
       "    </tr>\n",
       "    <tr>\n",
       "      <th>2</th>\n",
       "      <td>4.7</td>\n",
       "      <td>3.2</td>\n",
       "      <td>1.3</td>\n",
       "      <td>0.2</td>\n",
       "      <td>Iris-setosa</td>\n",
       "    </tr>\n",
       "    <tr>\n",
       "      <th>3</th>\n",
       "      <td>4.6</td>\n",
       "      <td>3.1</td>\n",
       "      <td>1.5</td>\n",
       "      <td>0.2</td>\n",
       "      <td>Iris-setosa</td>\n",
       "    </tr>\n",
       "    <tr>\n",
       "      <th>4</th>\n",
       "      <td>5.0</td>\n",
       "      <td>3.6</td>\n",
       "      <td>1.4</td>\n",
       "      <td>0.2</td>\n",
       "      <td>Iris-setosa</td>\n",
       "    </tr>\n",
       "  </tbody>\n",
       "</table>\n",
       "</div>"
      ],
      "text/plain": [
       "   sepal-length  sepal-width  petal-length  petal-width        Class\n",
       "0           5.1          3.5           1.4          0.2  Iris-setosa\n",
       "1           4.9          3.0           1.4          0.2  Iris-setosa\n",
       "2           4.7          3.2           1.3          0.2  Iris-setosa\n",
       "3           4.6          3.1           1.5          0.2  Iris-setosa\n",
       "4           5.0          3.6           1.4          0.2  Iris-setosa"
      ]
     },
     "execution_count": 3,
     "metadata": {},
     "output_type": "execute_result"
    }
   ],
   "source": [
    "dataset.head()"
   ]
  },
  {
   "cell_type": "code",
   "execution_count": 4,
   "metadata": {},
   "outputs": [
    {
     "name": "stdout",
     "output_type": "stream",
     "text": [
      "<class 'pandas.core.frame.DataFrame'>\n",
      "RangeIndex: 150 entries, 0 to 149\n",
      "Data columns (total 5 columns):\n",
      " #   Column        Non-Null Count  Dtype  \n",
      "---  ------        --------------  -----  \n",
      " 0   sepal-length  150 non-null    float64\n",
      " 1   sepal-width   150 non-null    float64\n",
      " 2   petal-length  150 non-null    float64\n",
      " 3   petal-width   150 non-null    float64\n",
      " 4   Class         150 non-null    object \n",
      "dtypes: float64(4), object(1)\n",
      "memory usage: 6.0+ KB\n"
     ]
    }
   ],
   "source": [
    "dataset.info()"
   ]
  },
  {
   "cell_type": "code",
   "execution_count": 5,
   "metadata": {},
   "outputs": [],
   "source": [
    "#Split in X and Y\n",
    "X = dataset.drop('Class', 1)\n",
    "y = dataset['Class']"
   ]
  },
  {
   "cell_type": "code",
   "execution_count": 6,
   "metadata": {},
   "outputs": [],
   "source": [
    "# Splitting the dataset into the Training set and Test set\n",
    "from sklearn.model_selection import train_test_split\n",
    "X_train, X_test, y_train, y_test = train_test_split(X, y, test_size=0.2, random_state=0)"
   ]
  },
  {
   "cell_type": "code",
   "execution_count": 7,
   "metadata": {},
   "outputs": [],
   "source": [
    "from sklearn.preprocessing import StandardScaler\n",
    "\n",
    "sc = StandardScaler()\n",
    "X_train = sc.fit_transform(X_train)\n",
    "X_test = sc.transform(X_test)"
   ]
  },
  {
   "cell_type": "raw",
   "metadata": {},
   "source": [
    "Performing PCA using Scikit-Learn is a two-step process:\n",
    "\n",
    "1. Initialize the PCA class by passing the number of components to the constructor.\n",
    "2. Call the fit and then transform methods by passing the feature set to these methods. The transform method returns the specified number of principal components."
   ]
  },
  {
   "cell_type": "code",
   "execution_count": 8,
   "metadata": {},
   "outputs": [],
   "source": [
    "from sklearn.decomposition import PCA\n",
    "pca = PCA()"
   ]
  },
  {
   "cell_type": "code",
   "execution_count": 9,
   "metadata": {},
   "outputs": [
    {
     "data": {
      "text/plain": [
       "PCA()"
      ]
     },
     "execution_count": 9,
     "metadata": {},
     "output_type": "execute_result"
    }
   ],
   "source": [
    "pca"
   ]
  },
  {
   "cell_type": "code",
   "execution_count": 10,
   "metadata": {},
   "outputs": [],
   "source": [
    "X_train = pca.fit_transform(X_train)\n",
    "X_test = pca.transform(X_test)"
   ]
  },
  {
   "cell_type": "code",
   "execution_count": 11,
   "metadata": {},
   "outputs": [
    {
     "data": {
      "text/plain": [
       "array([0.72226528, 0.23974795, 0.03338117, 0.0046056 ])"
      ]
     },
     "execution_count": 11,
     "metadata": {},
     "output_type": "execute_result"
    }
   ],
   "source": [
    "pca.explained_variance_ratio_"
   ]
  },
  {
   "cell_type": "raw",
   "metadata": {},
   "source": [
    "It can be seen that first principal component is responsible for 72.22% variance. \n",
    "Similarly, the second principal component causes 23.9% variance in the dataset. \n",
    "\n",
    "Collectively we can say that (72.22 + 23.9) 96.21% percent of the classification information contained in the feature set is captured by the first two principal components.\n",
    "\n",
    "Let's first try to use 1 principal component to train our algorithm. To do so, execute the following code:"
   ]
  },
  {
   "cell_type": "code",
   "execution_count": 13,
   "metadata": {},
   "outputs": [],
   "source": [
    "pca = PCA(n_components=1)\n",
    "\n",
    "X_train_1 = pca.fit_transform(X_train)\n",
    "X_test_1 = pca.transform(X_test)"
   ]
  },
  {
   "cell_type": "code",
   "execution_count": 14,
   "metadata": {},
   "outputs": [
    {
     "data": {
      "text/plain": [
       "array([[ 1.27228206e+00],\n",
       "       [ 1.52231770e-01],\n",
       "       [-2.18764183e+00],\n",
       "       [ 9.41913396e-01],\n",
       "       [ 1.76227837e+00],\n",
       "       [-8.16806401e-02],\n",
       "       [-1.89794863e+00],\n",
       "       [ 9.59395493e-01],\n",
       "       [ 3.65661204e-01],\n",
       "       [ 2.31845912e-01],\n",
       "       [ 1.79730127e+00],\n",
       "       [-2.40350676e+00],\n",
       "       [ 1.82199968e+00],\n",
       "       [-1.98427118e+00],\n",
       "       [-2.17073306e+00],\n",
       "       [-2.55598076e-01],\n",
       "       [ 1.38862320e+00],\n",
       "       [ 1.93409268e+00],\n",
       "       [ 1.12243099e+00],\n",
       "       [ 1.88169499e+00],\n",
       "       [ 5.43123767e-02],\n",
       "       [ 2.70365641e+00],\n",
       "       [ 6.91516012e-01],\n",
       "       [ 1.30048660e-02],\n",
       "       [ 1.22853905e+00],\n",
       "       [ 1.01881714e+00],\n",
       "       [ 2.57616370e-01],\n",
       "       [ 1.44310720e+00],\n",
       "       [ 1.03458720e+00],\n",
       "       [ 1.43772035e+00],\n",
       "       [ 3.84673096e-01],\n",
       "       [-2.18860624e+00],\n",
       "       [ 1.05608476e+00],\n",
       "       [ 1.92641524e-01],\n",
       "       [-1.12363985e-01],\n",
       "       [ 1.72424265e-01],\n",
       "       [ 5.48040969e-01],\n",
       "       [ 1.88178641e+00],\n",
       "       [-2.23313082e+00],\n",
       "       [-2.68474557e+00],\n",
       "       [ 1.49617758e+00],\n",
       "       [ 1.93808918e-02],\n",
       "       [-1.94319667e+00],\n",
       "       [-2.21348689e+00],\n",
       "       [ 1.16566733e+00],\n",
       "       [-2.34625489e+00],\n",
       "       [ 8.82824123e-01],\n",
       "       [-5.53354567e-01],\n",
       "       [-2.46710989e+00],\n",
       "       [ 1.08296089e+00],\n",
       "       [ 2.21566386e+00],\n",
       "       [ 1.47152532e-01],\n",
       "       [-2.27419738e+00],\n",
       "       [ 2.11590706e+00],\n",
       "       [ 1.96517506e+00],\n",
       "       [ 1.78249563e+00],\n",
       "       [ 1.68845011e+00],\n",
       "       [-2.37901660e+00],\n",
       "       [-2.35043637e+00],\n",
       "       [ 1.29698047e+00],\n",
       "       [ 1.63877963e+00],\n",
       "       [-1.96898362e+00],\n",
       "       [ 1.32194459e+00],\n",
       "       [-2.13797135e+00],\n",
       "       [ 1.14254888e+00],\n",
       "       [ 1.77290253e+00],\n",
       "       [-2.59070005e+00],\n",
       "       [-2.39923386e+00],\n",
       "       [ 1.77631039e+00],\n",
       "       [-2.20906445e+00],\n",
       "       [-2.48281329e+00],\n",
       "       [-2.06525704e+00],\n",
       "       [ 2.80311020e-01],\n",
       "       [ 1.96848355e+00],\n",
       "       [ 2.65786776e+00],\n",
       "       [-2.28289272e+00],\n",
       "       [-2.23288987e+00],\n",
       "       [-2.16655158e+00],\n",
       "       [ 2.99655286e-01],\n",
       "       [ 7.94323529e-01],\n",
       "       [-2.24916660e+00],\n",
       "       [-1.85496180e+00],\n",
       "       [ 6.16789994e-01],\n",
       "       [-1.86124640e+00],\n",
       "       [ 3.18225493e+00],\n",
       "       [-5.99475599e-01],\n",
       "       [ 2.27397951e+00],\n",
       "       [ 8.02777914e-01],\n",
       "       [-2.58513035e+00],\n",
       "       [ 8.46662508e-01],\n",
       "       [-2.18153152e+00],\n",
       "       [ 2.78717714e+00],\n",
       "       [-2.33804146e+00],\n",
       "       [-2.30494738e+00],\n",
       "       [ 2.32903683e+00],\n",
       "       [-2.23740372e+00],\n",
       "       [ 1.52387687e+00],\n",
       "       [ 1.68242783e-01],\n",
       "       [ 1.45049409e-01],\n",
       "       [-1.42474004e-01],\n",
       "       [ 1.52177374e+00],\n",
       "       [ 1.78400066e+00],\n",
       "       [ 1.11494102e+00],\n",
       "       [ 1.27532483e+00],\n",
       "       [-2.00986734e+00],\n",
       "       [-9.36765222e-02],\n",
       "       [ 1.93529805e+00],\n",
       "       [ 1.05608476e+00],\n",
       "       [-2.19609621e+00],\n",
       "       [ 8.40144896e-01],\n",
       "       [-2.04173388e-03],\n",
       "       [ 6.76377991e-01],\n",
       "       [ 9.10905621e-01],\n",
       "       [-2.06615479e+00],\n",
       "       [-2.21026982e+00],\n",
       "       [-2.23288987e+00],\n",
       "       [ 1.35062418e+00],\n",
       "       [ 6.30991357e-02],\n",
       "       [ 2.39539989e+00],\n",
       "       [-2.43305139e+00]])"
      ]
     },
     "execution_count": 14,
     "metadata": {},
     "output_type": "execute_result"
    }
   ],
   "source": [
    "X_train_1"
   ]
  },
  {
   "cell_type": "code",
   "execution_count": 13,
   "metadata": {},
   "outputs": [
    {
     "name": "stderr",
     "output_type": "stream",
     "text": [
      "C:\\Users\\punit.shah1\\AppData\\Roaming\\Python\\Python36\\site-packages\\sklearn\\ensemble\\forest.py:245: FutureWarning: The default value of n_estimators will change from 10 in version 0.20 to 100 in 0.22.\n",
      "  \"10 in version 0.20 to 100 in 0.22.\", FutureWarning)\n"
     ]
    }
   ],
   "source": [
    "from sklearn.ensemble import RandomForestClassifier\n",
    "\n",
    "classifier = RandomForestClassifier(max_depth=2, random_state=0)\n",
    "classifier.fit(X_train_1, y_train)\n",
    "\n",
    "# Predicting the Test set results\n",
    "y_pred = classifier.predict(X_test_1)"
   ]
  },
  {
   "cell_type": "code",
   "execution_count": 14,
   "metadata": {},
   "outputs": [
    {
     "name": "stdout",
     "output_type": "stream",
     "text": [
      "[[11  0  0]\n",
      " [ 0 12  1]\n",
      " [ 0  1  5]]\n",
      "\n",
      "\n",
      "Accuracy is 0.9333333333333333\n"
     ]
    }
   ],
   "source": [
    "from sklearn.metrics import confusion_matrix\n",
    "from sklearn.metrics import accuracy_score\n",
    "\n",
    "cm = confusion_matrix(y_test, y_pred)\n",
    "print(cm)\n",
    "print(\"\\n\")\n",
    "print('Accuracy is {}'.format(accuracy_score(y_test, y_pred)))"
   ]
  },
  {
   "cell_type": "markdown",
   "metadata": {},
   "source": [
    "# Results with 2 and 3 Principal Components"
   ]
  },
  {
   "cell_type": "code",
   "execution_count": 20,
   "metadata": {},
   "outputs": [],
   "source": [
    "pca2 = PCA(n_components=2)\n",
    "\n",
    "X_train_2 = pca2.fit_transform(X_train)\n",
    "X_test_2 = pca2.transform(X_test)"
   ]
  },
  {
   "cell_type": "code",
   "execution_count": 21,
   "metadata": {},
   "outputs": [
    {
     "name": "stderr",
     "output_type": "stream",
     "text": [
      "C:\\Users\\punit.shah1\\AppData\\Roaming\\Python\\Python36\\site-packages\\sklearn\\ensemble\\forest.py:245: FutureWarning: The default value of n_estimators will change from 10 in version 0.20 to 100 in 0.22.\n",
      "  \"10 in version 0.20 to 100 in 0.22.\", FutureWarning)\n"
     ]
    }
   ],
   "source": [
    "classifier = RandomForestClassifier(max_depth=2, random_state=0)\n",
    "classifier.fit(X_train_2, y_train)\n",
    "\n",
    "# Predicting the Test set results\n",
    "y_pred_2 = classifier.predict(X_test_2)"
   ]
  },
  {
   "cell_type": "code",
   "execution_count": 22,
   "metadata": {},
   "outputs": [
    {
     "name": "stdout",
     "output_type": "stream",
     "text": [
      "[[11  0  0]\n",
      " [ 0 10  3]\n",
      " [ 0  2  4]]\n",
      "\n",
      "\n",
      "Accuracy is 0.8333333333333334\n"
     ]
    }
   ],
   "source": [
    "cm = confusion_matrix(y_test, y_pred_2)\n",
    "print(cm)\n",
    "print(\"\\n\")\n",
    "print('Accuracy is {}'.format(accuracy_score(y_test, y_pred_2)))"
   ]
  },
  {
   "cell_type": "code",
   "execution_count": 28,
   "metadata": {},
   "outputs": [],
   "source": [
    "pca3 = PCA(n_components=3)\n",
    "\n",
    "X_train_3 = pca3.fit_transform(X_train)\n",
    "X_test_3 = pca3.transform(X_test)"
   ]
  },
  {
   "cell_type": "code",
   "execution_count": 29,
   "metadata": {},
   "outputs": [
    {
     "name": "stderr",
     "output_type": "stream",
     "text": [
      "C:\\Users\\punit.shah1\\AppData\\Roaming\\Python\\Python36\\site-packages\\sklearn\\ensemble\\forest.py:245: FutureWarning: The default value of n_estimators will change from 10 in version 0.20 to 100 in 0.22.\n",
      "  \"10 in version 0.20 to 100 in 0.22.\", FutureWarning)\n"
     ]
    }
   ],
   "source": [
    "classifier = RandomForestClassifier(max_depth=2, random_state=0)\n",
    "classifier.fit(X_train_3, y_train)\n",
    "\n",
    "# Predicting the Test set results\n",
    "y_pred_3 = classifier.predict(X_test_3)"
   ]
  },
  {
   "cell_type": "code",
   "execution_count": 30,
   "metadata": {},
   "outputs": [
    {
     "name": "stdout",
     "output_type": "stream",
     "text": [
      "[[11  0  0]\n",
      " [ 0 12  1]\n",
      " [ 0  1  5]]\n",
      "\n",
      "\n",
      "Accuracy is 0.9333333333333333\n"
     ]
    }
   ],
   "source": [
    "cm = confusion_matrix(y_test, y_pred_3)\n",
    "print(cm)\n",
    "print(\"\\n\")\n",
    "print('Accuracy is {}'.format(accuracy_score(y_test, y_pred_3)))"
   ]
  },
  {
   "cell_type": "code",
   "execution_count": 31,
   "metadata": {},
   "outputs": [],
   "source": [
    "import matplotlib.pyplot as plt"
   ]
  },
  {
   "cell_type": "code",
   "execution_count": 46,
   "metadata": {},
   "outputs": [
    {
     "data": {
      "image/png": "[encoded data removed]",
      "text/plain": [
       "<Figure size 432x288 with 1 Axes>"
      ]
     },
     "metadata": {
      "needs_background": "light"
     },
     "output_type": "display_data"
    }
   ],
   "source": [
    "pc4 = PCA(n_components=4)\n",
    "x_train_4 = pc4.fit_transform(X_train)\n",
    "plt.plot(['PC1','PC2','PC3','PC4'],pc4.explained_variance_ratio_,'-bs')\n",
    "plt.title(\"Principal Components v/s Variance Ration\")\n",
    "plt.xlabel(\"Principal Components\")\n",
    "plt.ylabel(\"Variance Ratio\")\n",
    "plt.show()"
   ]
  },
  {
   "cell_type": "code",
   "execution_count": null,
   "metadata": {},
   "outputs": [],
   "source": []
  }
 ],
 "metadata": {
  "kernelspec": {
   "display_name": "Python 3",
   "language": "python",
   "name": "python3"
  },
  "language_info": {
   "codemirror_mode": {
    "name": "ipython",
    "version": 3
   },
   "file_extension": ".py",
   "mimetype": "text/x-python",
   "name": "python",
   "nbconvert_exporter": "python",
   "pygments_lexer": "ipython3",
   "version": "3.6.12"
  }
 },
 "nbformat": 4,
 "nbformat_minor": 4
}
