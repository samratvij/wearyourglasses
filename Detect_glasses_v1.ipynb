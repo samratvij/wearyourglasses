{
  "nbformat": 4,
  "nbformat_minor": 0,
  "metadata": {
    "colab": {
      "name": "Detect_glasses_v1.ipynb",
      "provenance": [],
      "collapsed_sections": [],
      "include_colab_link": true
    },
    "kernelspec": {
      "name": "python3",
      "display_name": "Python 3"
    },
    "language_info": {
      "name": "python"
    }
  },
  "cells": [
    {
      "cell_type": "markdown",
      "metadata": {
        "id": "view-in-github",
        "colab_type": "text"
      },
      "source": [
        "<a href=\"https://colab.research.google.com/github/samratvij/wearyourglasses/blob/master/Detect_glasses_v1.ipynb\" target=\"_parent\"><img src=\"https://colab.research.google.com/assets/colab-badge.svg\" alt=\"Open In Colab\"/></a>"
      ]
    },
    {
      "cell_type": "markdown",
      "source": [
        "### Plan:\n",
        "1. Collect dataset: <br>\n",
        "a. Glasses or Not from Kaggle - DONE <br>\n",
        "b. SOF (Specs on Faces) - DONE <br>\n",
        "c. Own pictures: Python bot to take pictures from webcam every 5-10 mins - DONE (Capture images for 5-10 days)  <br>\n",
        "2. Scale images to same dimensions\n",
        "3. Data Augmentation (Not on SOF, already augmented data present)\n",
        "4. Split in train test validation\n",
        "5. Apply Transfer Learning\n",
        "6. Evaluate and Iterate"
      ],
      "metadata": {
        "id": "Bqh057WdUo8d"
      }
    },
    {
      "cell_type": "code",
      "source": [
        "from google.colab import drive\n",
        "drive.mount('/content/drive')"
      ],
      "metadata": {
        "id": "U_1o8W-depKd",
        "colab": {
          "base_uri": "https://localhost:8080/"
        },
        "outputId": "855ca699-a4bd-44af-aec2-602df6df49cd"
      },
      "execution_count": 1,
      "outputs": [
        {
          "output_type": "stream",
          "name": "stdout",
          "text": [
            "Mounted at /content/drive\n"
          ]
        }
      ]
    },
    {
      "cell_type": "code",
      "source": [
        "import os\n",
        "os.environ['KAGGLE_CONFIG_DIR'] = \"/content/drive/MyDrive/Kaggle\""
      ],
      "metadata": {
        "id": "J_hyjeEiOnHK"
      },
      "execution_count": 2,
      "outputs": []
    },
    {
      "cell_type": "code",
      "source": [
        "!pip install unrar"
      ],
      "metadata": {
        "id": "p7D0m--5UScc"
      },
      "execution_count": null,
      "outputs": []
    },
    {
      "cell_type": "code",
      "source": [
        "%cd /content/drive/MyDrive/Kaggle/"
      ],
      "metadata": {
        "colab": {
          "base_uri": "https://localhost:8080/"
        },
        "id": "sr1JswFyPXys",
        "outputId": "e2e35a3a-490a-4a82-f414-afbaf6c8f8ee"
      },
      "execution_count": 3,
      "outputs": [
        {
          "output_type": "stream",
          "name": "stdout",
          "text": [
            "/content/drive/MyDrive/Kaggle\n"
          ]
        }
      ]
    },
    {
      "cell_type": "code",
      "source": [
        "!kaggle datasets download -d jeffheaton/glasses-or-no-glasses"
      ],
      "metadata": {
        "colab": {
          "base_uri": "https://localhost:8080/"
        },
        "id": "Jsmg9hqbPa38",
        "outputId": "2afb6a4c-1c86-4932-921d-e69d9577e1b2"
      },
      "execution_count": 4,
      "outputs": [
        {
          "output_type": "stream",
          "name": "stdout",
          "text": [
            "Downloading glasses-or-no-glasses.zip to /content/drive/MyDrive/Kaggle\n",
            "100% 6.11G/6.11G [02:06<00:00, 40.3MB/s]\n",
            "100% 6.11G/6.11G [02:11<00:00, 50.0MB/s]\n"
          ]
        }
      ]
    },
    {
      "cell_type": "code",
      "source": [
        "%ls"
      ],
      "metadata": {
        "id": "javp4EgxPiYI",
        "colab": {
          "base_uri": "https://localhost:8080/"
        },
        "outputId": "afaeecca-ae9f-4eda-f105-0b097144f605"
      },
      "execution_count": 5,
      "outputs": [
        {
          "output_type": "stream",
          "name": "stdout",
          "text": [
            "glasses-or-no-glasses.zip  kaggle.json\n"
          ]
        }
      ]
    },
    {
      "cell_type": "code",
      "source": [
        "!unzip glasses-or-no-glasses.zip"
      ],
      "metadata": {
        "id": "wDkClhmDSjQD"
      },
      "execution_count": null,
      "outputs": []
    },
    {
      "cell_type": "code",
      "source": [
        "%ls"
      ],
      "metadata": {
        "colab": {
          "base_uri": "https://localhost:8080/"
        },
        "id": "kBxozwQZS6Db",
        "outputId": "ffdf1e2c-1646-405a-f288-603093338c0b"
      },
      "execution_count": 8,
      "outputs": [
        {
          "output_type": "stream",
          "name": "stdout",
          "text": [
            "\u001b[0m\u001b[01;34mfaces-spring-2020\u001b[0m/  glasses-or-no-glasses.zip  kaggle.json  test.csv  train.csv\n"
          ]
        }
      ]
    },
    {
      "cell_type": "code",
      "source": [
        "!rm glasses-or-no-glasses.zip"
      ],
      "metadata": {
        "id": "lsbz9BumT9r8"
      },
      "execution_count": 9,
      "outputs": []
    },
    {
      "cell_type": "code",
      "source": [
        "%ls -al"
      ],
      "metadata": {
        "colab": {
          "base_uri": "https://localhost:8080/"
        },
        "id": "Z7t57RuTUQfO",
        "outputId": "6e3ab3e1-4a14-41fa-ce28-fdaf88bbaf0a"
      },
      "execution_count": 15,
      "outputs": [
        {
          "output_type": "stream",
          "name": "stdout",
          "text": [
            "total 1795826\n",
            "drwx------ 3 root root       4096 Jan 25 17:32  \u001b[0m\u001b[01;34mfaces-spring-2020\u001b[0m/\n",
            "-rw------- 1 root root         65 Jan 25 17:11  kaggle.json\n",
            "-rw------- 1 root root 1817400565 Jan 25 18:06 'SOF data.rar'\n",
            "-rw------- 1 root root    2153215 Apr 18  2020  test.csv\n",
            "-rw------- 1 root root   19366156 Apr 18  2020  train.csv\n"
          ]
        }
      ]
    },
    {
      "cell_type": "code",
      "source": [
        "!unrar x 'SOF data.rar'"
      ],
      "metadata": {
        "id": "nbCSbsBybB-d"
      },
      "execution_count": null,
      "outputs": []
    },
    {
      "cell_type": "code",
      "source": [
        "!rm 'SOF data.rar'"
      ],
      "metadata": {
        "id": "idStn6HLcDjc"
      },
      "execution_count": 21,
      "outputs": []
    },
    {
      "cell_type": "code",
      "source": [
        "%ls -al"
      ],
      "metadata": {
        "colab": {
          "base_uri": "https://localhost:8080/"
        },
        "outputId": "5b68c52e-82b9-4aa6-c4c7-2ab2f89f34da",
        "id": "44vd1HLzcDjk"
      },
      "execution_count": 22,
      "outputs": [
        {
          "output_type": "stream",
          "name": "stdout",
          "text": [
            "total 21024\n",
            "drwx------ 3 root root     4096 Jan 25 17:32  \u001b[0m\u001b[01;34mfaces-spring-2020\u001b[0m/\n",
            "-rw------- 1 root root       65 Jan 25 17:11  kaggle.json\n",
            "-rw------- 1 root root  2153215 Apr 18  2020  test.csv\n",
            "-rw------- 1 root root 19366156 Apr 18  2020  train.csv\n",
            "drwx------ 2 root root     4096 Dec 11  2016 \u001b[01;34m'whole images'\u001b[0m/\n"
          ]
        }
      ]
    },
    {
      "cell_type": "code",
      "source": [
        ""
      ],
      "metadata": {
        "id": "-tdO9j9Oa2Kr"
      },
      "execution_count": null,
      "outputs": []
    }
  ]
}